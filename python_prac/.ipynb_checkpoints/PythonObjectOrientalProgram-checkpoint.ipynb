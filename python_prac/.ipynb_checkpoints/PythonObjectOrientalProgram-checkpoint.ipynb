{
 "cells": [
  {
   "cell_type": "markdown",
   "metadata": {},
   "source": [
    "### Python object oriental program practice\n"
   ]
  },
  {
   "cell_type": "code",
   "execution_count": 1,
   "metadata": {
    "collapsed": true
   },
   "outputs": [],
   "source": [
    "class ClassTest:\n",
    "    variableList = [\"a\",\"b\",\"c\"]"
   ]
  },
  {
   "cell_type": "code",
   "execution_count": 4,
   "metadata": {
    "collapsed": false
   },
   "outputs": [
    {
     "name": "stdout",
     "output_type": "stream",
     "text": [
      "['a', 'b', 'c']\n"
     ]
    }
   ],
   "source": [
    "# 定义一个类变量\n",
    "b = ClassTest()\n",
    "print b.variableList"
   ]
  },
  {
   "cell_type": "code",
   "execution_count": 6,
   "metadata": {
    "collapsed": false
   },
   "outputs": [
    {
     "name": "stdout",
     "output_type": "stream",
     "text": [
      "10\n"
     ]
    }
   ],
   "source": [
    "#也可以直接定义一个类的属性\n",
    "b.age = 10\n",
    "print b.age"
   ]
  },
  {
   "cell_type": "code",
   "execution_count": 9,
   "metadata": {
    "collapsed": false
   },
   "outputs": [
    {
     "name": "stdout",
     "output_type": "stream",
     "text": [
      "i can drink\n"
     ]
    }
   ],
   "source": [
    "#定义一个带函数的类\n",
    "class ClassWithDef:\n",
    "    age = 10\n",
    "    def drink(self):\n",
    "        print \"i can drink\"\n",
    "a = ClassWithDef()\n",
    "\n",
    "a.drink()"
   ]
  },
  {
   "cell_type": "code",
   "execution_count": 13,
   "metadata": {
    "collapsed": false
   },
   "outputs": [
    {
     "name": "stdout",
     "output_type": "stream",
     "text": [
      "I can speak English\n"
     ]
    }
   ],
   "source": [
    "#python中的类初始化方法，类似于其他语言的构造方法\n",
    "class Speak:\n",
    "    def __init__(self):\n",
    "        print \"I can speak English\"\n",
    "a = Speak()"
   ]
  },
  {
   "cell_type": "code",
   "execution_count": 18,
   "metadata": {
    "collapsed": false
   },
   "outputs": [
    {
     "name": "stdout",
     "output_type": "stream",
     "text": [
      "i can fight\n",
      "i can eat\n"
     ]
    }
   ],
   "source": [
    "#类的继承\n",
    "class Animal:\n",
    "    move = True\n",
    "    def fight(self):\n",
    "        print \"i can fight\"\n",
    "class dog(Animal):\n",
    "    def eat(self):\n",
    "        print \"i can eat\"\n",
    "a = dog()\n",
    "\n",
    "a.fight()\n",
    "a.eat()"
   ]
  },
  {
   "cell_type": "code",
   "execution_count": null,
   "metadata": {
    "collapsed": true
   },
   "outputs": [],
   "source": []
  }
 ],
 "metadata": {
  "anaconda-cloud": {},
  "kernelspec": {
   "display_name": "Python [default]",
   "language": "python",
   "name": "python2"
  },
  "language_info": {
   "codemirror_mode": {
    "name": "ipython",
    "version": 2
   },
   "file_extension": ".py",
   "mimetype": "text/x-python",
   "name": "python",
   "nbconvert_exporter": "python",
   "pygments_lexer": "ipython2",
   "version": "2.7.12"
  }
 },
 "nbformat": 4,
 "nbformat_minor": 1
}
