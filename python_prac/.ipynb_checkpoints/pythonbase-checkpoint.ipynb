{
 "cells": [
  {
   "cell_type": "code",
   "execution_count": 18,
   "metadata": {
    "collapsed": false
   },
   "outputs": [
    {
     "name": "stdout",
     "output_type": "stream",
     "text": [
      "*m a boy\n",
      "3\n",
      "i a boy\n"
     ]
    }
   ],
   "source": [
    "#coding:utf-8\n",
    "#字符替换,字符查找,格式化\n",
    "str_test = \" i am a boy\"\n",
    "print(str_test.replace(str_test[0:4],'*'))\n",
    "\n",
    "print(str_test.find(\"am\"))\n",
    "\n",
    "print('{} a {}'.format('i','boy'))"
   ]
  },
  {
   "cell_type": "markdown",
   "metadata": {
    "collapsed": true
   },
   "source": [
    "- 中文注释有时候会有问题，所以要加入\n",
    "\n",
    "<pre>#coding:utf-8</pre>"
   ]
  },
  {
   "cell_type": "code",
   "execution_count": 1,
   "metadata": {
    "collapsed": false
   },
   "outputs": [
    {
     "name": "stdout",
     "output_type": "stream",
     "text": [
      "i a handsome boy\n",
      "i a handsome boy\n",
      "boy a handsome i\n"
     ]
    }
   ],
   "source": [
    "#format in python3\n",
    "print('{} a handsome {}'.format('i','boy'))     \t #i a handsome boy\n",
    "print('{a} a handsome {b}'.format(a='i',b='boy'))\t #i a handsome boy\n",
    "print('{1} a handsome {0}'.format('i','boy'))\t\t #boy a handsome i"
   ]
  },
  {
   "cell_type": "code",
   "execution_count": 5,
   "metadata": {
    "collapsed": false
   },
   "outputs": [],
   "source": [
    "l = [1,2,3]\n",
    "b = [4,5]\n",
    "l = l+b \n",
    "l.append(b) \n",
    "\n",
    "l.append(10)   #在末尾添加10\n",
    "l.insert(2,\"helo\") #在位置2添加“hello”\n",
    "l.extend([1,2])  #在末尾追加列表里的值\n",
    "l.pop()         #删掉末尾的值并返回删掉的元素\n",
    "l.remove(1)  #删掉元素为1的第一个元素\n",
    "del l[1]       #删去第2个元素"
   ]
  },
  {
   "cell_type": "code",
   "execution_count": 8,
   "metadata": {
    "collapsed": false
   },
   "outputs": [
    {
     "ename": "SyntaxError",
     "evalue": "invalid syntax (<ipython-input-8-5de81cf8d1e4>, line 1)",
     "output_type": "error",
     "traceback": [
      "\u001b[0;36m  File \u001b[0;32m\"<ipython-input-8-5de81cf8d1e4>\"\u001b[0;36m, line \u001b[0;32m1\u001b[0m\n\u001b[0;31m    a（1,3,4,[1,2]）  #不可变类型,只读类型数据结构\u001b[0m\n\u001b[0m     ^\u001b[0m\n\u001b[0;31mSyntaxError\u001b[0m\u001b[0;31m:\u001b[0m invalid syntax\n"
     ]
    }
   ],
   "source": [
    "a（1,3,4,[1,2]）  #不可变类型,只读类型数据结构\n",
    "a[3][1]=4        \n",
    "a[1]=4           #error,readonly data structure"
   ]
  },
  {
   "cell_type": "markdown",
   "metadata": {},
   "source": [
    "### 集合和字典"
   ]
  },
  {
   "cell_type": "code",
   "execution_count": 16,
   "metadata": {
    "collapsed": false
   },
   "outputs": [
    {
     "name": "stdout",
     "output_type": "stream",
     "text": [
      "set(['y', 'b', 'o'])\n",
      "\n",
      "set(['y', 'python', 'b', 'o'])\n",
      "\n",
      "set(['b', 'python', 'h', 'o', 'n', 'p', 't', 'y'])\n",
      "\n",
      "set(['b', 'h', 'o', 'n', 'p', 't', 'y'])\n",
      "\n",
      "set(['b', 'h', 'o', 'n', 'p', 't'])\n",
      "\n"
     ]
    }
   ],
   "source": [
    "#coding：utf-8\n",
    "#集合中不能添加列表元组和字典\n",
    "a = set('boy')   #define a element\n",
    "print a \n",
    "print \"\"\n",
    "\n",
    "a.add('python')\n",
    "print a \n",
    "print \"\"\n",
    "\n",
    "a.update(\"python\")\n",
    "print a \n",
    "print \"\"\n",
    "\n",
    "a.remove('python')\n",
    "print a\n",
    "print \"\"\n",
    "\n",
    "a.discard('y')\n",
    "print a\n",
    "print \"\""
   ]
  },
  {
   "cell_type": "code",
   "execution_count": 19,
   "metadata": {
    "collapsed": false
   },
   "outputs": [
    {
     "name": "stdout",
     "output_type": "stream",
     "text": [
      "1\n",
      "{'home': 'china', 'age': 23, 'name': 'yeye'}\n",
      "23\n",
      "{'a': {'age': 23, 'name': 'yeye'}}\n",
      "{'a': {'home': 'china', 'age': 23, 'name': 'yeye'}}\n"
     ]
    }
   ],
   "source": [
    "#coding:utf-8\n",
    "#操作字典\n",
    "dictT = {\"a\":{\"name\":\"yeye\",\"age\":23,\"home\":\"china\"}}\n",
    "\n",
    "print len(dictT)\n",
    "\n",
    "print dictT['a']\n",
    "print dictT['a']['age']\n",
    "\n",
    "del dictT['a']['home']  #del item\n",
    "print dictT\n",
    "\n",
    "dictT['a']['home']=\"china\"\n",
    "print dictT\n",
    "\n",
    "#dictT.clear()  #del all\n",
    "#print dictT\n"
   ]
  },
  {
   "cell_type": "code",
   "execution_count": 16,
   "metadata": {
    "collapsed": false
   },
   "outputs": [
    {
     "name": "stdout",
     "output_type": "stream",
     "text": [
      "{'a': {'home': 'china', 'age': 23, 'name': 'yeye'}}\n",
      "True\n",
      "[('a', {'home': 'china', 'age': 23, 'name': 'yeye'})]\n",
      "['a']\n",
      "[{'home': 'china', 'age': 23, 'name': 'yeye'}]\n"
     ]
    }
   ],
   "source": [
    "print dictT.copy()\n",
    "\n",
    "print dictT.has_key(\"a\")\n",
    "\n",
    "print dictT.items()\n",
    "\n",
    "print dictT.keys()\n",
    "\n",
    "print dictT.values()"
   ]
  }
 ],
 "metadata": {
  "anaconda-cloud": {},
  "kernelspec": {
   "display_name": "Python [default]",
   "language": "python",
   "name": "python2"
  },
  "language_info": {
   "codemirror_mode": {
    "name": "ipython",
    "version": 2
   },
   "file_extension": ".py",
   "mimetype": "text/x-python",
   "name": "python",
   "nbconvert_exporter": "python",
   "pygments_lexer": "ipython2",
   "version": "2.7.12"
  }
 },
 "nbformat": 4,
 "nbformat_minor": 1
}
